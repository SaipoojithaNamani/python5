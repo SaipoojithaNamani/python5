{
  "nbformat": 4,
  "nbformat_minor": 0,
  "metadata": {
    "colab": {
      "provenance": [],
      "authorship_tag": "ABX9TyPEpX34E3cld0rUKoPkNI3B",
      "include_colab_link": true
    },
    "kernelspec": {
      "name": "python3",
      "display_name": "Python 3"
    },
    "language_info": {
      "name": "python"
    }
  },
  "cells": [
    {
      "cell_type": "markdown",
      "metadata": {
        "id": "view-in-github",
        "colab_type": "text"
      },
      "source": [
        "<a href=\"https://colab.research.google.com/github/SaipoojithaNamani/python5/blob/main/python5.ipynb\" target=\"_parent\"><img src=\"https://colab.research.google.com/assets/colab-badge.svg\" alt=\"Open In Colab\"/></a>"
      ]
    },
    {
      "cell_type": "code",
      "execution_count": 6,
      "metadata": {
        "colab": {
          "base_uri": "https://localhost:8080/"
        },
        "id": "k7-oc5mYelq_",
        "outputId": "c63e106a-ee16-4f94-8eb6-5fa22d3f0993"
      },
      "outputs": [
        {
          "output_type": "stream",
          "name": "stdout",
          "text": [
            "pos\n"
          ]
        }
      ],
      "source": [
        "#write a program to number is positive negative or positive\n",
        "x=3.4\n",
        "if x>0:\n",
        "  print('pos')\n",
        "elif x<0:\n",
        "  print('neg')\n",
        "else:\n",
        "    print('zero')"
      ]
    },
    {
      "cell_type": "code",
      "source": [
        "y = 3\n",
        "if y+6>5:\n",
        "  print('M')\n",
        "elif y>4:\n",
        "  print('K')\n",
        "elif y>7:\n",
        "  print('H')\n",
        "else:\n",
        "  print('o')"
      ],
      "metadata": {
        "colab": {
          "base_uri": "https://localhost:8080/"
        },
        "id": "7gTghYOvfMpm",
        "outputId": "c4f51b2d-2092-4111-f279-5c07473be8b8"
      },
      "execution_count": 8,
      "outputs": [
        {
          "output_type": "stream",
          "name": "stdout",
          "text": [
            "M\n"
          ]
        }
      ]
    },
    {
      "cell_type": "code",
      "source": [
        "b= 'hyderabad'"
      ],
      "metadata": {
        "id": "85LUIqNpg0s5"
      },
      "execution_count": 9,
      "outputs": []
    },
    {
      "cell_type": "code",
      "source": [
        "#str functions\n",
        "b[3]"
      ],
      "metadata": {
        "colab": {
          "base_uri": "https://localhost:8080/",
          "height": 35
        },
        "id": "ExsbhqFkj_jW",
        "outputId": "5c32cd86-3fb0-4ba6-f06c-28bbe528dd3b"
      },
      "execution_count": 10,
      "outputs": [
        {
          "output_type": "execute_result",
          "data": {
            "text/plain": [
              "'e'"
            ],
            "application/vnd.google.colaboratory.intrinsic+json": {
              "type": "string"
            }
          },
          "metadata": {},
          "execution_count": 10
        }
      ]
    },
    {
      "cell_type": "code",
      "source": [
        "b[-5]"
      ],
      "metadata": {
        "colab": {
          "base_uri": "https://localhost:8080/",
          "height": 35
        },
        "id": "hMCKBZ_KkBx4",
        "outputId": "b7ef2a98-4bed-4ffb-8b7b-dc6a01f0b17d"
      },
      "execution_count": 11,
      "outputs": [
        {
          "output_type": "execute_result",
          "data": {
            "text/plain": [
              "'r'"
            ],
            "application/vnd.google.colaboratory.intrinsic+json": {
              "type": "string"
            }
          },
          "metadata": {},
          "execution_count": 11
        }
      ]
    },
    {
      "cell_type": "code",
      "source": [
        "b.upper()"
      ],
      "metadata": {
        "colab": {
          "base_uri": "https://localhost:8080/",
          "height": 35
        },
        "id": "FnyoN_iGkH61",
        "outputId": "ce649435-1249-406a-cbad-289cb0677b91"
      },
      "execution_count": 12,
      "outputs": [
        {
          "output_type": "execute_result",
          "data": {
            "text/plain": [
              "'HYDERABAD'"
            ],
            "application/vnd.google.colaboratory.intrinsic+json": {
              "type": "string"
            }
          },
          "metadata": {},
          "execution_count": 12
        }
      ]
    },
    {
      "cell_type": "code",
      "source": [
        "type(b)"
      ],
      "metadata": {
        "colab": {
          "base_uri": "https://localhost:8080/"
        },
        "id": "UPrvytt6kOhy",
        "outputId": "318dd687-0e37-4e61-c565-0001e872ff7d"
      },
      "execution_count": 14,
      "outputs": [
        {
          "output_type": "execute_result",
          "data": {
            "text/plain": [
              "str"
            ]
          },
          "metadata": {},
          "execution_count": 14
        }
      ]
    },
    {
      "cell_type": "code",
      "source": [
        "b.index('e')"
      ],
      "metadata": {
        "colab": {
          "base_uri": "https://localhost:8080/"
        },
        "id": "JQvtU6nMkSkI",
        "outputId": "7dbb0dab-5c66-4e16-e1ac-1c2398f3fa1c"
      },
      "execution_count": 16,
      "outputs": [
        {
          "output_type": "execute_result",
          "data": {
            "text/plain": [
              "3"
            ]
          },
          "metadata": {},
          "execution_count": 16
        }
      ]
    },
    {
      "cell_type": "code",
      "source": [
        "b.count('a')"
      ],
      "metadata": {
        "colab": {
          "base_uri": "https://localhost:8080/"
        },
        "id": "Z0gSAEjHkZHJ",
        "outputId": "99692643-cfbe-49a8-aa9f-77b6662c0785"
      },
      "execution_count": 17,
      "outputs": [
        {
          "output_type": "execute_result",
          "data": {
            "text/plain": [
              "2"
            ]
          },
          "metadata": {},
          "execution_count": 17
        }
      ]
    },
    {
      "cell_type": "code",
      "source": [
        "a = 't'\n",
        "t = 'paris'\n",
        "if a==t:\n",
        "  print('starts with t')\n",
        "else:\n",
        "  print('not starts with t')"
      ],
      "metadata": {
        "colab": {
          "base_uri": "https://localhost:8080/"
        },
        "id": "gu1RqXk5ke2q",
        "outputId": "e88bf80c-b02d-45b1-94fb-2d3b1853b748"
      },
      "execution_count": 35,
      "outputs": [
        {
          "output_type": "stream",
          "name": "stdout",
          "text": [
            "not starts with t\n"
          ]
        }
      ]
    },
    {
      "cell_type": "code",
      "source": [
        "\n",
        "x='telangana'\n",
        "x='Tiger'\n",
        "x='toronto'\n",
        "x='tan'\n",
        "if x=='toronto':\n",
        "  print('starts with t')\n",
        "elif x!=t:\n",
        "  print('Tiger')\n",
        "elif x==t:\n",
        "  print('tan')\n",
        "else:\n",
        "  print('not starts with t')"
      ],
      "metadata": {
        "colab": {
          "base_uri": "https://localhost:8080/"
        },
        "id": "O2LbbuctkiOb",
        "outputId": "97926411-bf03-4f57-fb02-4b8df7731625"
      },
      "execution_count": 36,
      "outputs": [
        {
          "output_type": "stream",
          "name": "stdout",
          "text": [
            "Tiger\n"
          ]
        }
      ]
    },
    {
      "cell_type": "code",
      "source": [
        "x =='tiger'"
      ],
      "metadata": {
        "colab": {
          "base_uri": "https://localhost:8080/"
        },
        "id": "WtUdvXuymTmZ",
        "outputId": "b60f8253-2908-4414-cf05-7eef01964ba1"
      },
      "execution_count": 31,
      "outputs": [
        {
          "output_type": "execute_result",
          "data": {
            "text/plain": [
              "False"
            ]
          },
          "metadata": {},
          "execution_count": 31
        }
      ]
    },
    {
      "cell_type": "code",
      "source": [
        "x='telangana'\n",
        "if x=='t' or x== 'T' :\n",
        "  print('Yes')\n",
        "else:\n",
        "  print('No')"
      ],
      "metadata": {
        "colab": {
          "base_uri": "https://localhost:8080/"
        },
        "id": "Wp30JIEgmyTD",
        "outputId": "49e0f869-92c6-401f-eedd-c67fc008b4b4"
      },
      "execution_count": 39,
      "outputs": [
        {
          "output_type": "stream",
          "name": "stdout",
          "text": [
            "No\n"
          ]
        }
      ]
    },
    {
      "cell_type": "code",
      "source": [
        "x='mumbai'\n",
        "s='san francisco'\n",
        "m='mongolia'\n",
        "if x=='s' or x=='S':\n",
        "  print('Yes')\n",
        "elif x=='m' or x=='M' :\n",
        "  print('Yes')\n",
        "elif x=='h' or x=='H':\n",
        "  print('Yes')\n",
        "else:\n",
        "  print('No')"
      ],
      "metadata": {
        "colab": {
          "base_uri": "https://localhost:8080/"
        },
        "id": "KZF_Q4WSnqEH",
        "outputId": "e6d0dff0-7949-4b56-9379-4643f1d05893"
      },
      "execution_count": 46,
      "outputs": [
        {
          "output_type": "stream",
          "name": "stdout",
          "text": [
            "No\n"
          ]
        }
      ]
    },
    {
      "cell_type": "code",
      "source": [
        "x[0].lower()=='t'"
      ],
      "metadata": {
        "colab": {
          "base_uri": "https://localhost:8080/"
        },
        "id": "oQNa6Ys8n7xg",
        "outputId": "847386ba-8321-408b-fe87-5d82b5b5939c"
      },
      "execution_count": 42,
      "outputs": [
        {
          "output_type": "execute_result",
          "data": {
            "text/plain": [
              "False"
            ]
          },
          "metadata": {},
          "execution_count": 42
        }
      ]
    },
    {
      "cell_type": "code",
      "source": [
        "x='tiger'\n",
        "if x[0].lower()=='t':\n",
        "  print('Yes')\n",
        "else:\n",
        "  ('No')"
      ],
      "metadata": {
        "colab": {
          "base_uri": "https://localhost:8080/"
        },
        "id": "wBnJmX2WpTzQ",
        "outputId": "812d1eb2-6677-4426-b9b0-713ad44be2dc"
      },
      "execution_count": 47,
      "outputs": [
        {
          "output_type": "stream",
          "name": "stdout",
          "text": [
            "Yes\n"
          ]
        }
      ]
    },
    {
      "cell_type": "code",
      "source": [
        "if x[0].lower() in ('s', 'm', 'h'):\n",
        "  print('Yes')\n",
        "else:\n",
        "  print('No')"
      ],
      "metadata": {
        "colab": {
          "base_uri": "https://localhost:8080/"
        },
        "id": "I2irifYSqISr",
        "outputId": "66d55eee-56fa-4c5d-b4c1-44eaab383a8a"
      },
      "execution_count": 48,
      "outputs": [
        {
          "output_type": "stream",
          "name": "stdout",
          "text": [
            "No\n"
          ]
        }
      ]
    },
    {
      "cell_type": "code",
      "source": [],
      "metadata": {
        "id": "QOdORUXVq4jX"
      },
      "execution_count": null,
      "outputs": []
    }
  ]
}